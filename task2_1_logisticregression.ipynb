{
  "nbformat": 4,
  "nbformat_minor": 0,
  "metadata": {
    "colab": {
      "provenance": []
    },
    "kernelspec": {
      "name": "python3",
      "display_name": "Python 3"
    },
    "language_info": {
      "name": "python"
    }
  },
  "cells": [
    {
      "cell_type": "code",
      "execution_count": null,
      "metadata": {
        "id": "WYNlTKV6cz7P"
      },
      "outputs": [],
      "source": [
        "#importing libraries\n",
        "import numpy as np\n",
        "import pandas as pd\n",
        "import matplotlib.pyplot as plt\n",
        "import math\n",
        "import copy\n",
        "import seaborn as sb\n",
        "import os\n",
        "import gdown"
      ]
    },
    {
      "cell_type": "code",
      "source": [
        "# Downloading training dataset\n",
        "train_file_id = '1-e3oa8IAgmjkikjirxHObjDXpiY0g51i'\n",
        "train_file_name = 'Gotem_Pumpkins_Train.csv'  # New file name\n",
        "train_url = f'https://drive.google.com/uc?id={train_file_id}'\n",
        "gdown.download(train_url, train_file_name, quiet=False)\n",
        "training_data = pd.read_csv(train_file_name)\n",
        "\n",
        "# Downloading testing dataset\n",
        "test_file_id = '1GMoK_4HOLIjCLuIdRD6pmLhSy1ymykQP'\n",
        "test_file_name = 'Freyja_Pumpkins_Test.csv'\n",
        "test_url = f'https://drive.google.com/uc?id={test_file_id}'\n",
        "gdown.download(test_url, test_file_name, quiet=False)\n",
        "testing_data = pd.read_csv(test_file_name)"
      ],
      "metadata": {
        "id": "DbxGkX4JeSvY",
        "colab": {
          "base_uri": "https://localhost:8080/"
        },
        "outputId": "fe053de1-5360-48a2-b0c8-d2dfffcf6724"
      },
      "execution_count": null,
      "outputs": [
        {
          "output_type": "stream",
          "name": "stderr",
          "text": [
            "Downloading...\n",
            "From: https://drive.google.com/uc?id=1-e3oa8IAgmjkikjirxHObjDXpiY0g51i\n",
            "To: /content/Gotem_Pumpkins_Train.csv\n",
            "100%|██████████| 216k/216k [00:00<00:00, 12.0MB/s]\n",
            "Downloading...\n",
            "From: https://drive.google.com/uc?id=1GMoK_4HOLIjCLuIdRD6pmLhSy1ymykQP\n",
            "To: /content/Freyja_Pumpkins_Test.csv\n",
            "100%|██████████| 53.7k/53.7k [00:00<00:00, 48.2MB/s]\n"
          ]
        }
      ]
    },
    {
      "cell_type": "code",
      "source": [
        "# Function to convert text to numbers\n",
        "def extract(text):\n",
        "    try:\n",
        "        return float(text.split()[0])\n",
        "    except:\n",
        "        return np.nan  # Return NaN if conversion fails"
      ],
      "metadata": {
        "id": "_h8_o88sfUQf"
      },
      "execution_count": null,
      "outputs": []
    },
    {
      "cell_type": "code",
      "source": [
        "# Display the first few rows\n",
        "print(training_data.head())"
      ],
      "metadata": {
        "colab": {
          "base_uri": "https://localhost:8080/"
        },
        "id": "HN-YTiKSgJaR",
        "outputId": "b3337a97-bddf-4b86-9c7b-2d27142361b9"
      },
      "execution_count": null,
      "outputs": [
        {
          "output_type": "stream",
          "name": "stdout",
          "text": [
            "   Unnamed: 0    Area  Perimeter  Major_Axis_Length  Minor_Axis_Length  \\\n",
            "0           0   84930   1204.448           508.7883           213.0266   \n",
            "1           1  103343   1275.261           521.4694           252.8941   \n",
            "2           2   98350   1269.539           526.2346           238.4702   \n",
            "3           3   69517   1059.538           429.8407           206.8250   \n",
            "4           4   80011   1182.947           501.9065           204.7531   \n",
            "\n",
            "   Convex_Area  Equiv_Diameter  Eccentricity  Solidity  Extent  Roundness  \\\n",
            "0        85665        328.8407        0.9081    0.9914  0.5482     0.7357   \n",
            "1       104156        362.7401        0.8745    0.9922  0.7457     0.7985   \n",
            "2        99184        353.8688        0.8914    0.9916  0.5919     0.7668   \n",
            "3        70493        297.5093        0.8766    0.9862  0.6623     0.7782   \n",
            "4        80902        319.1758        0.9130    0.9890  0.7374     0.7185   \n",
            "\n",
            "   Aspect_Ration  Compactness          Class  \n",
            "0         2.3884       0.6463  Ürgüp Sivrisi  \n",
            "1         2.0620       0.6956  Ürgüp Sivrisi  \n",
            "2         2.2067       0.6725  Ürgüp Sivrisi  \n",
            "3         2.0783       0.6921     Çerçevelik  \n",
            "4         2.4513       0.6359  Ürgüp Sivrisi  \n"
          ]
        }
      ]
    },
    {
      "cell_type": "code",
      "source": [
        "#assigning the classifications numbers instead of names\n",
        "training_data['Class'] = training_data['Class'].map({'Ürgüp Sivrisi': 1, 'Çerçevelik': 0})\n",
        "testing_data['Class'] = testing_data['Class'].map({'Ürgüp Sivrisi': 1, 'Çerçevelik': 0})"
      ],
      "metadata": {
        "id": "xUiTgKg5g59O"
      },
      "execution_count": null,
      "outputs": []
    },
    {
      "cell_type": "code",
      "source": [
        "x_train = training_data.drop(columns=['Class']).values\n",
        "y_train = training_data['Class'].values\n",
        "\n",
        "x_test = testing_data.drop(columns=['Class']).values\n",
        "y_test = testing_data['Class'].values\n",
        "\n",
        "#z score normalisation of training data- feature scaling\n",
        "x_mu = np.mean(x_train,axis=0)\n",
        "x_sigma = np.std(x_train, axis=0)\n",
        "x_sigma[x_sigma == 0] = 1\n",
        "x_norm = (x_train - x_mu)/x_sigma\n",
        "print(f\"X_mu = \\n{x_mu}, \\n\\nX_sigma = \\n{x_sigma}\\n\\n\")\n",
        "\n",
        "\n",
        "print(f\"\\nPeak to Peak range by column in Raw        X:\\n{np.ptp(x_train,axis=0)}\") #range of each col\n",
        "print(f\"\\nPeak to Peak range by column in Normalized X:\\n{np.ptp(x_norm,axis=0)}\")"
      ],
      "metadata": {
        "colab": {
          "base_uri": "https://localhost:8080/"
        },
        "id": "CiZdlq56hQkL",
        "outputId": "2a2fd3bf-c46c-42c7-dcda-96d21bba69ef"
      },
      "execution_count": null,
      "outputs": [
        {
          "output_type": "stream",
          "name": "stdout",
          "text": [
            "X_mu = \n",
            "[9.99500000e+02 8.06414625e+04 1.13026191e+03 4.56638748e+02\n",
            " 2.25707590e+02 8.14955890e+04 3.19289997e+02 8.61151450e-01\n",
            " 9.89427300e-01 6.94209850e-01 7.91254400e-01 2.04213530e+00\n",
            " 7.03923650e-01], \n",
            "\n",
            "X_sigma = \n",
            "[5.77350197e+02 1.37159525e+04 1.09304507e+02 5.63170784e+01\n",
            " 2.31578816e+01 1.38129460e+04 2.70147639e+01 4.45000794e-02\n",
            " 3.63623221e-03 6.01650859e-02 5.53341162e-02 3.13874510e-01\n",
            " 5.25350678e-02]\n",
            "\n",
            "\n",
            "\n",
            "Peak to Peak range by column in Raw        X:\n",
            "[1.999000e+03 8.863500e+04 6.909650e+02 3.410667e+02 1.518160e+02\n",
            " 9.001800e+04 1.699445e+02 4.543000e-01 7.580000e-02 3.453000e-01\n",
            " 3.687000e-01 1.948200e+00 3.379000e-01]\n",
            "\n",
            "Peak to Peak range by column in Normalized X:\n",
            "[ 3.46237     6.46218338  6.32146854  6.05618597  6.55569463  6.51692983\n",
            "  6.29080087 10.20897055 20.84575339  5.73920896  6.66315873  6.20693919\n",
            "  6.43189424]\n"
          ]
        }
      ]
    },
    {
      "cell_type": "code",
      "source": [
        "#defining sigmoid function\n",
        "def sigmoid(z):\n",
        "  g = 1/(1 + np.exp(-z))\n",
        "  return g\n"
      ],
      "metadata": {
        "id": "kyKZVhAzi5q7"
      },
      "execution_count": null,
      "outputs": []
    },
    {
      "cell_type": "code",
      "source": [
        "#compute total cost of all iterations\n",
        "def compute_cost_logistic(X, y, w, b, lambda_ = 1):\n",
        "    m,n  = X.shape\n",
        "    cost = 0.\n",
        "    #cost function\n",
        "    for i in range(m):\n",
        "        z_i = np.dot(X[i], w)+b\n",
        "        f_wb_i = sigmoid(z_i)\n",
        "        cost +=  -y[i]*np.log(f_wb_i) - (1-y[i])*np.log(1-f_wb_i)\n",
        "\n",
        "    cost/= m\n",
        "    #regularization\n",
        "    reg_cost = 0\n",
        "    for j in range(n):\n",
        "        reg_cost+= (w[j]**2)\n",
        "    reg_cost = (lambda_/(2*m))*reg_cost\n",
        "\n",
        "    total_cost = cost + reg_cost\n",
        "    return total_cost"
      ],
      "metadata": {
        "id": "hiY9kL6VjBBp"
      },
      "execution_count": null,
      "outputs": []
    },
    {
      "cell_type": "code",
      "source": [
        "#function to compute gradient of a single iteration\n",
        "def compute_gradient_logistic(X, y, w, b):\n",
        "  m,n = X.shape\n",
        "  dj_dw = np.zeros((n,))\n",
        "  dj_db = 0.\n",
        "\n",
        "  for i in range(m):\n",
        "    f_wb_i = sigmoid(np.dot(X[i],w) + b)\n",
        "    err_i  = f_wb_i  - y[i]\n",
        "    for j in range(n):\n",
        "      dj_dw[j] = dj_dw[j] + err_i*X[i,j]\n",
        "      dj_db = dj_db + err_i\n",
        "  #for all examples\n",
        "  dj_dw = dj_dw/m\n",
        "  dj_db = dj_db/m\n",
        "\n",
        "  return dj_db, dj_dw\n",
        "\n"
      ],
      "metadata": {
        "id": "qsK3RGLijDRf"
      },
      "execution_count": null,
      "outputs": []
    },
    {
      "cell_type": "code",
      "source": [
        "#gradient descent\n",
        "def grad_desc(X, y, w_in, b_in, alpha, iters):\n",
        "  J_history = []\n",
        "  w = copy.deepcopy(w_in)\n",
        "  b = b_in\n",
        "\n",
        "  for i in range(1,iters+1):\n",
        "    #updating w and b values\n",
        "    dj_db, dj_dw = compute_gradient_logistic(X, y, w, b)\n",
        "    w = w - alpha * dj_dw\n",
        "    b = b - alpha * dj_db\n",
        "    if i<100000:\n",
        "      J_history.append( compute_cost_logistic(X, y, w, b) )\n",
        "    if i% math.ceil(iters / 10) == 0:\n",
        "      print(f\"Iteration {i:4d}: Cost {J_history[-1]}   \")\n",
        "\n",
        "  return w, b, J_history"
      ],
      "metadata": {
        "id": "e96Psgg_jHgZ"
      },
      "execution_count": null,
      "outputs": []
    },
    {
      "source": [
        "#normalising the testing data\n",
        "x_mu_t = np.mean(x_test,axis=0)\n",
        "x_sigma_t = np.std(x_test, axis=0)\n",
        "x_sigma_t[x_sigma_t == 0] = 1\n",
        "x_norm_t = (x_test - x_mu_t)/x_sigma_t\n",
        "print(f\"X_mu = \\n{x_mu_t}, \\n\\nX_sigma = \\n{x_sigma_t}\\n\\n\")\n",
        "print(f\"\\nPeak to Peak range by column in Raw        X:\\n{np.ptp(x_test,axis=0)}\") #range of each column\n",
        "print(f\"\\nPeak to Peak range by column in Normalized X:\\n{np.ptp(x_norm_t,axis=0)}\")"
      ],
      "cell_type": "code",
      "metadata": {
        "colab": {
          "base_uri": "https://localhost:8080/"
        },
        "id": "XJhDR1R5jWfU",
        "outputId": "43bda3ff-c3c5-4d28-cbde-d0061f0230ac"
      },
      "execution_count": null,
      "outputs": [
        {
          "output_type": "stream",
          "name": "stdout",
          "text": [
            "X_mu = \n",
            "[2.49500000e+02 8.07252540e+04 1.13034745e+03 4.56454207e+02\n",
            " 2.26144247e+02 8.15580660e+04 3.19511164e+02 8.59791200e-01\n",
            " 9.89748800e-01 6.89183200e-01 7.92646200e-01 2.03997040e+00\n",
            " 7.04908000e-01], \n",
            "\n",
            "X_sigma = \n",
            "[1.44337279e+02 1.34426834e+04 1.08954319e+02 5.58521851e+01\n",
            " 2.38205803e+01 1.35528342e+04 2.63666718e+01 4.76852258e-02\n",
            " 2.83374285e-03 6.36032832e-02 5.81564845e-02 3.24033737e-01\n",
            " 5.50847588e-02]\n",
            "\n",
            "\n",
            "\n",
            "Peak to Peak range by column in Raw        X:\n",
            "[4.990000e+02 8.478500e+04 6.322830e+02 3.140422e+02 1.484059e+02\n",
            " 8.528100e+04 1.612930e+02 2.895000e-01 2.380000e-02 3.128000e-01\n",
            " 3.170000e-01 1.815400e+00 3.057000e-01]\n",
            "\n",
            "Peak to Peak range by column in Normalized X:\n",
            "[3.45718033 6.30714846 5.80319353 5.62273794 6.23015467 6.29248455\n",
            " 6.11730602 6.07106279 8.39878607 4.91798511 5.45081091 5.60250306\n",
            " 5.54962945]\n"
          ]
        }
      ]
    },
    {
      "cell_type": "code",
      "source": [
        "#initialising\n",
        "w_init = np.zeros(x_train.shape[1])\n",
        "b_init = 0.\n",
        "iterations = 1000\n",
        "lambda_ = 0\n",
        "\n",
        "#finding optimal alpha\n",
        "alphas = [0.001, 0.003, 0.01, 0.03, 0.1,0.3,1]\n",
        "alpha_iter = 200\n",
        "best_alpha = None\n",
        "lowest_cost = float('inf')\n",
        "J_hist_alpha = []\n",
        "\n",
        "for alpha in alphas:\n",
        "    w_final, b_final, J_hist = grad_desc(x_norm, y_train, w_init, b_init, alpha, alpha_iter)\n",
        "    final_cost = J_hist[-1]\n",
        "    J_hist_alpha.append(final_cost)\n",
        "    print(f\"Alpha: {alpha}, Final Cost: {final_cost}\")\n",
        "\n",
        "    if final_cost < lowest_cost:\n",
        "        lowest_cost = final_cost\n",
        "        best_alpha = alpha\n",
        "\n",
        "print(f\"Optimal Learning Rate: {best_alpha}\")\n"
      ],
      "metadata": {
        "colab": {
          "base_uri": "https://localhost:8080/"
        },
        "id": "N8WgTudIjZZc",
        "outputId": "aed9e202-d511-4451-c4ac-5cec8eed1b19"
      },
      "execution_count": null,
      "outputs": [
        {
          "output_type": "stream",
          "name": "stdout",
          "text": [
            "Iteration   20: Cost 0.679809899456042   \n",
            "Iteration   40: Cost 0.667178571665703   \n",
            "Iteration   60: Cost 0.6552129126850232   \n",
            "Iteration   80: Cost 0.6438741643823291   \n",
            "Iteration  100: Cost 0.6331252303602218   \n",
            "Iteration  120: Cost 0.6229307655698274   \n",
            "Iteration  140: Cost 0.6132572261959129   \n",
            "Iteration  160: Cost 0.6040728859824154   \n",
            "Iteration  180: Cost 0.5953478249873642   \n",
            "Iteration  200: Cost 0.5870538963418384   \n",
            "Alpha: 0.001, Final Cost: 0.5870538963418384\n",
            "Iteration   20: Cost 0.6551655744103606   \n",
            "Iteration   40: Cost 0.6228510871788222   \n",
            "Iteration   60: Cost 0.5952470977764479   \n",
            "Iteration   80: Cost 0.5715418444371796   \n",
            "Iteration  100: Cost 0.5510624068042547   \n",
            "Iteration  120: Cost 0.5332584799701688   \n",
            "Iteration  140: Cost 0.5176830161458686   \n",
            "Iteration  160: Cost 0.5039735443836109   \n",
            "Iteration  180: Cost 0.49183580302703966   \n",
            "Iteration  200: Cost 0.48103011489633707   \n",
            "Alpha: 0.003, Final Cost: 0.48103011489633707\n",
            "Iteration   20: Cost 0.5865753439393457   \n",
            "Iteration   40: Cost 0.5222155173228972   \n",
            "Iteration   60: Cost 0.48062455260876463   \n",
            "Iteration   80: Cost 0.4520050194855559   \n",
            "Iteration  100: Cost 0.43129066825132445   \n",
            "Iteration  120: Cost 0.41569261850196065   \n",
            "Iteration  140: Cost 0.4035749255532077   \n",
            "Iteration  160: Cost 0.39392286167673274   \n",
            "Iteration  180: Cost 0.3860766116943006   \n",
            "Iteration  200: Cost 0.37958981239235456   \n",
            "Alpha: 0.01, Final Cost: 0.37958981239235456\n",
            "Iteration   20: Cost 0.47945242726435044   \n",
            "Iteration   40: Cost 0.4149359847246163   \n",
            "Iteration   60: Cost 0.3855823206358074   \n",
            "Iteration   80: Cost 0.36919269805712424   \n",
            "Iteration  100: Cost 0.35891036318788383   \n",
            "Iteration  120: Cost 0.35195394678031733   \n",
            "Iteration  140: Cost 0.3469902948723459   \n",
            "Iteration  160: Cost 0.3433046920230015   \n",
            "Iteration  180: Cost 0.34048192704189917   \n",
            "Iteration  200: Cost 0.3382657348685727   \n",
            "Alpha: 0.03, Final Cost: 0.3382657348685727\n",
            "Iteration   20: Cost 0.3776233774211428   \n",
            "Iteration   40: Cost 0.34794175636001823   \n",
            "Iteration   60: Cost 0.3380193127281111   \n",
            "Iteration   80: Cost 0.3333639566220853   \n",
            "Iteration  100: Cost 0.33079401708285466   \n",
            "Iteration  120: Cost 0.3292431600083768   \n",
            "Iteration  140: Cost 0.3282542692288685   \n",
            "Iteration  160: Cost 0.3275974165623394   \n",
            "Iteration  180: Cost 0.32714561270877307   \n",
            "Iteration  200: Cost 0.3268247767727481   \n",
            "Alpha: 0.1, Final Cost: 0.3268247767727481\n",
            "Iteration   20: Cost 0.3373196068289439   \n",
            "Iteration   40: Cost 0.32909803016674255   \n",
            "Iteration   60: Cost 0.3270978551366214   \n",
            "Iteration   80: Cost 0.32639459984827923   \n",
            "Iteration  100: Cost 0.3260695085879963   \n",
            "Iteration  120: Cost 0.32587568216563556   \n",
            "Iteration  140: Cost 0.325732228990048   \n",
            "Iteration  160: Cost 0.3256094421595129   \n",
            "Iteration  180: Cost 0.3254957610308191   \n",
            "Iteration  200: Cost 0.3253865718704353   \n",
            "Alpha: 0.3, Final Cost: 0.3253865718704353\n",
            "Iteration   20: Cost 0.3266653604546727   \n",
            "Iteration   40: Cost 0.32577139283511725   \n",
            "Iteration   60: Cost 0.32538733905224493   \n",
            "Iteration   80: Cost 0.3250393183148271   \n",
            "Iteration  100: Cost 0.32470766276143426   \n",
            "Iteration  120: Cost 0.3243905469908371   \n",
            "Iteration  140: Cost 0.32408659822952335   \n",
            "Iteration  160: Cost 0.32379454353703097   \n",
            "Iteration  180: Cost 0.3235132959429185   \n",
            "Iteration  200: Cost 0.32324195191989624   \n",
            "Alpha: 1, Final Cost: 0.32324195191989624\n",
            "Optimal Learning Rate: 1\n"
          ]
        }
      ]
    },
    {
      "cell_type": "code",
      "source": [
        "\n",
        "#plotting variation of final cost with learning rate\n",
        "plt.plot(alphas, J_hist_alpha, marker='.')\n",
        "plt.xlabel(\"Alpha (Learning Rate)\")\n",
        "plt.ylabel(\"Final Cost\")\n",
        "plt.title(\"Learning Rate vs Cost\")\n",
        "plt.show()"
      ],
      "metadata": {
        "colab": {
          "base_uri": "https://localhost:8080/",
          "height": 472
        },
        "id": "ZRQcZKhbjz84",
        "outputId": "49853fbf-b1d0-41c6-f02b-35c81144fe3d"
      },
      "execution_count": null,
      "outputs": [
        {
          "output_type": "display_data",
          "data": {
            "text/plain": [
              "<Figure size 640x480 with 1 Axes>"
            ],
            "image/png": "[encoded data removed]"
          },
          "metadata": {}
        }
      ]
    },
    {
      "cell_type": "code",
      "source": [
        "#logistic regression\n",
        "w_final, b_final, J_hist = grad_desc(x_norm, y_train, w_init, b_init, best_alpha, iterations)\n"
      ],
      "metadata": {
        "colab": {
          "base_uri": "https://localhost:8080/"
        },
        "id": "nVJI1h4ykBGa",
        "outputId": "353ac2bb-4c78-4a72-ab36-b5eff8c23436"
      },
      "execution_count": null,
      "outputs": [
        {
          "output_type": "stream",
          "name": "stdout",
          "text": [
            "Iteration  100: Cost 0.32470766276143426   \n",
            "Iteration  200: Cost 0.32324195191989624   \n",
            "Iteration  300: Cost 0.32201154685853844   \n",
            "Iteration  400: Cost 0.3209555308019659   \n",
            "Iteration  500: Cost 0.32004524013546115   \n",
            "Iteration  600: Cost 0.31926339136332266   \n",
            "Iteration  700: Cost 0.31859711678898406   \n",
            "Iteration  800: Cost 0.3180356488141901   \n",
            "Iteration  900: Cost 0.3175695594063569   \n",
            "Iteration 1000: Cost 0.3171905200221771   \n"
          ]
        }
      ]
    },
    {
      "cell_type": "code",
      "source": [
        "sigmoid_predictions = sigmoid(np.dot(x_norm_t, w_final) + b_final) #predictions\n",
        "predictions = [1 if value >= 0.5 else 0 for value in sigmoid_predictions] #converting value from numerical to either 0 or 1\n",
        "\n",
        "print(\"Running on testing data:\\n\")\n",
        "for i in range(0,len(predictions),20): #printing predictions at an interval of 20 to reduce length of output.\n",
        "    print(f\"Prediction #{i+1}: {predictions[i]}\\t\\tActual value: {y_test[i]}\")"
      ],
      "metadata": {
        "colab": {
          "base_uri": "https://localhost:8080/"
        },
        "id": "ZXG63FUBkHUh",
        "outputId": "59057932-a83a-4488-f3c6-5d3aafefd093"
      },
      "execution_count": null,
      "outputs": [
        {
          "output_type": "stream",
          "name": "stdout",
          "text": [
            "Running on testing data:\n",
            "\n",
            "Prediction #1: 0\t\tActual value: 0\n",
            "Prediction #51: 1\t\tActual value: 1\n",
            "Prediction #101: 0\t\tActual value: 0\n",
            "Prediction #151: 0\t\tActual value: 0\n",
            "Prediction #201: 1\t\tActual value: 1\n",
            "Prediction #251: 0\t\tActual value: 0\n",
            "Prediction #301: 0\t\tActual value: 0\n",
            "Prediction #351: 0\t\tActual value: 0\n",
            "Prediction #401: 0\t\tActual value: 0\n",
            "Prediction #451: 0\t\tActual value: 1\n"
          ]
        }
      ]
    },
    {
      "cell_type": "code",
      "source": [
        "#plotting\n",
        "plt.plot(J_hist, label=\"Training Cost\")\n",
        "plt.xlabel(\"Iterations\")\n",
        "plt.ylabel(\"Cost\")\n",
        "plt.title(\"Learning Curve\")\n",
        "plt.legend()\n",
        "plt.show()"
      ],
      "metadata": {
        "colab": {
          "base_uri": "https://localhost:8080/",
          "height": 472
        },
        "id": "g4S1iuqdkOjZ",
        "outputId": "1c5ccb6a-a0c3-404f-d58b-9bd45e90fb16"
      },
      "execution_count": null,
      "outputs": [
        {
          "output_type": "display_data",
          "data": {
            "text/plain": [
              "<Figure size 640x480 with 1 Axes>"
            ],
            "image/png": "[encoded data removed]"
          },
          "metadata": {}
        }
      ]
    },
    {
      "cell_type": "code",
      "source": [
        "#plotting sigmoid curve\n",
        "fig, ax = plt.subplots(figsize=(7, 5))\n",
        "ax.plot(sorted(sigmoid_predictions), color=\"pink\", label=\"Sigmoid Curve\")\n",
        "ax.set_title(\"Sigmoid Curve\")\n",
        "ax.grid(True)\n",
        "ax.legend()\n",
        "plt.show()"
      ],
      "metadata": {
        "colab": {
          "base_uri": "https://localhost:8080/",
          "height": 468
        },
        "id": "UenXR9SikVGv",
        "outputId": "56c1ea64-f184-4f6d-c592-adc7b1e06a9f"
      },
      "execution_count": null,
      "outputs": [
        {
          "output_type": "display_data",
          "data": {
            "text/plain": [
              "<Figure size 700x500 with 1 Axes>"
            ],
            "image/png": "[encoded data removed]"
          },
          "metadata": {}
        }
      ]
    },
    {
      "cell_type": "code",
      "source": [
        "#calc error\n",
        "predictions = np.array(predictions)\n",
        "TP = np.sum((y_test==1) & (predictions==1))\n",
        "TN = np.sum((y_test==0) & (predictions==0))\n",
        "FP = np.sum((y_test==0) & (predictions==1))\n",
        "FN = np.sum((y_test==1) & (predictions==0))\n",
        "cm = [[TP, FP], [FN, TN]]\n",
        "print(f\"The model is {(TP+TN)/len(y_test)*100}% accurate.\")"
      ],
      "metadata": {
        "colab": {
          "base_uri": "https://localhost:8080/"
        },
        "id": "Uy5pDM6Oks5S",
        "outputId": "f19cf5a1-9298-41e8-c73d-c07d62d8acd1"
      },
      "execution_count": null,
      "outputs": [
        {
          "output_type": "stream",
          "name": "stdout",
          "text": [
            "The model is 88.4% accurate.\n"
          ]
        }
      ]
    }
  ]
}